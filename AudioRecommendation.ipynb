{
 "cells": [
  {
   "cell_type": "code",
   "execution_count": 1,
   "metadata": {
    "collapsed": true
   },
   "outputs": [],
   "source": [
    "from pyspark import SparkConf,SparkContext\n",
    "conf=SparkConf().setMaster(\"local\").setAppName(\"AudioRecommender\")\n",
    "sc=SparkContext(conf=conf)\n",
    "from random import randrange\n",
    "from operator import itemgetter\n",
    "from pyspark.mllib.recommendation import ALS, Rating"
   ]
  },
  {
   "cell_type": "code",
   "execution_count": 2,
   "metadata": {
    "collapsed": true
   },
   "outputs": [],
   "source": [
    "base=\"data/\"\n",
    "rawUserArtistData = sc.textFile(base + \"user_artist_data.txt\").cache()\n",
    "rawArtistData = sc.textFile(base + \"artist_data.txt\").cache()\n",
    "rawArtistAlias = sc.textFile(base + \"artist_alias.txt\").cache()"
   ]
  },
  {
   "cell_type": "code",
   "execution_count": 3,
   "metadata": {
    "collapsed": true
   },
   "outputs": [],
   "source": [
    "def _parseArtistAlias(line):\n",
    "    fields = line.split('\\t')\n",
    "    try:\n",
    "        artist = int(fields[0])\n",
    "        alias = int(fields[1])\n",
    "        return (artist,alias)\n",
    "    except:\n",
    "        return (None,None)\n",
    "artistAlias=rawArtistAlias.map(_parseArtistAlias).collectAsMap()"
   ]
  },
  {
   "cell_type": "code",
   "execution_count": 4,
   "metadata": {
    "collapsed": true
   },
   "outputs": [],
   "source": [
    "def _parseUserArtist(line):\n",
    "    fields = line.split(' ')\n",
    "    user = int(fields[0])\n",
    "    artist = int(fields[1])\n",
    "    return (user,artist)\n",
    "UserArtistData = rawUserArtistData.map(_parseUserArtist)"
   ]
  },
  {
   "cell_type": "code",
   "execution_count": 5,
   "metadata": {
    "collapsed": true
   },
   "outputs": [],
   "source": [
    "def _parseArtistData(line):\n",
    "    fields = line.split('\\t')\n",
    "    try:\n",
    "        artist_id = int(fields[0])#id is reserved in Python\n",
    "        name = str(fields[1].strip())\n",
    "        return (artist_id,name)\n",
    "    except:\n",
    "        return (None,None)\n",
    "ArtistData=rawArtistData.map(_parseArtistData)  "
   ]
  },
  {
   "cell_type": "code",
   "execution_count": 6,
   "metadata": {
    "collapsed": true
   },
   "outputs": [],
   "source": [
    "#rawUserArtistData.map(lambda line: int(line.split(' ')[0])).stats()"
   ]
  },
  {
   "cell_type": "code",
   "execution_count": 7,
   "metadata": {
    "collapsed": true
   },
   "outputs": [],
   "source": [
    "#rawUserArtistData.map(lambda line: int(line.split(' ')[1])).stats()"
   ]
  },
  {
   "cell_type": "code",
   "execution_count": 8,
   "metadata": {},
   "outputs": [
    {
     "data": {
      "text/plain": [
       "PythonRDD[7] at RDD at PythonRDD.scala:48"
      ]
     },
     "execution_count": 8,
     "metadata": {},
     "output_type": "execute_result"
    }
   ],
   "source": [
    "def buildCounts(rawUserArtistData, bArtistAlias):\n",
    "    def getArtistRating(line):\n",
    "        (userID, artistID, count) = map(lambda x: int(x), line.split(' '))\n",
    "        try:\n",
    "            finalArtistID = bArtistAlias.value[artistID]\n",
    "        except KeyError:\n",
    "            finalArtistID = artistID\n",
    "        return Rating(userID, finalArtistID, count)\n",
    "\n",
    "    return rawUserArtistData.map(lambda line: getArtistRating(line))\n",
    "bArtistAlias = sc.broadcast(artistAlias)\n",
    "trainData=buildCounts(rawUserArtistData,bArtistAlias)\n",
    "trainData.cache()"
   ]
  },
  {
   "cell_type": "code",
   "execution_count": 9,
   "metadata": {
    "collapsed": true
   },
   "outputs": [],
   "source": [
    "model=ALS.trainImplicit(ratings=trainData,rank=10,iterations=5,lambda_=0.01,alpha=1.0)"
   ]
  },
  {
   "cell_type": "code",
   "execution_count": 14,
   "metadata": {
    "collapsed": true,
    "scrolled": false
   },
   "outputs": [],
   "source": [
    "userID=2093760\n",
    "recommendations=model.recommendProducts(userID,10)\n",
    "recommendedProductIDs = map(lambda rec: rec.product, recommendations)"
   ]
  },
  {
   "cell_type": "code",
   "execution_count": 18,
   "metadata": {},
   "outputs": [],
   "source": [
    "stack=[]\n",
    "for i in recommendedProductIDs:\n",
    "    stack.append(i)"
   ]
  },
  {
   "cell_type": "code",
   "execution_count": 16,
   "metadata": {
    "collapsed": true
   },
   "outputs": [],
   "source": [
    "recommendedArtists = ArtistData.filter(lambda artist: artist[0] in stack).collect()"
   ]
  },
  {
   "cell_type": "code",
   "execution_count": 17,
   "metadata": {
    "scrolled": true
   },
   "outputs": [
    {
     "data": {
      "text/plain": [
       "[(1004028, 'Notorious B.I.G.'),\n",
       " (2814, '50 Cent'),\n",
       " (4605, 'Snoop Dogg'),\n",
       " (829, 'Nas'),\n",
       " (1007614, 'Jay-Z'),\n",
       " (1037970, 'Kanye West'),\n",
       " (1811, 'Dr. Dre'),\n",
       " (1003249, 'Ludacris'),\n",
       " (1001819, '2Pac'),\n",
       " (1300642, 'The Game')]"
      ]
     },
     "execution_count": 17,
     "metadata": {},
     "output_type": "execute_result"
    }
   ],
   "source": [
    "recommendedArtists"
   ]
  },
  {
   "cell_type": "code",
   "execution_count": null,
   "metadata": {
    "collapsed": true
   },
   "outputs": [],
   "source": []
  }
 ],
 "metadata": {
  "kernelspec": {
   "display_name": "Python 3",
   "language": "python",
   "name": "python3"
  },
  "language_info": {
   "codemirror_mode": {
    "name": "ipython",
    "version": 3
   },
   "file_extension": ".py",
   "mimetype": "text/x-python",
   "name": "python",
   "nbconvert_exporter": "python",
   "pygments_lexer": "ipython3",
   "version": "3.6.3"
  }
 },
 "nbformat": 4,
 "nbformat_minor": 2
}
